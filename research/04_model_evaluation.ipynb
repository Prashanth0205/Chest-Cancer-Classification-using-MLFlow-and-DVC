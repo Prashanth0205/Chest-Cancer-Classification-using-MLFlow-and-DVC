{
 "cells": [
  {
   "cell_type": "code",
   "execution_count": 1,
   "metadata": {},
   "outputs": [],
   "source": [
    "import os \n",
    "os.chdir(\"../\")"
   ]
  },
  {
   "cell_type": "code",
   "execution_count": 2,
   "metadata": {},
   "outputs": [
    {
     "data": {
      "text/plain": [
       "'c:\\\\Users\\\\omrav\\\\OneDrive\\\\Desktop\\\\IITC AI\\\\Prep\\\\mlops projects\\\\Chest-Cancer-Classification-using-MLFlow-and-DVC'"
      ]
     },
     "execution_count": 2,
     "metadata": {},
     "output_type": "execute_result"
    }
   ],
   "source": [
    "os.getcwd()"
   ]
  },
  {
   "cell_type": "code",
   "execution_count": 3,
   "metadata": {},
   "outputs": [
    {
     "data": {
      "text/html": [
       "<pre style=\"white-space:pre;overflow-x:auto;line-height:normal;font-family:Menlo,'DejaVu Sans Mono',consolas,'Courier New',monospace\">Accessing as Prashanth0205\n",
       "</pre>\n"
      ],
      "text/plain": [
       "Accessing as Prashanth0205\n"
      ]
     },
     "metadata": {},
     "output_type": "display_data"
    },
    {
     "data": {
      "text/html": [
       "<pre style=\"white-space:pre;overflow-x:auto;line-height:normal;font-family:Menlo,'DejaVu Sans Mono',consolas,'Courier New',monospace\">Initialized MLflow to track repo <span style=\"color: #008000; text-decoration-color: #008000\">\"Prashanth0205/Chest-Cancer-Classification-using-MLFlow-and-DVC\"</span>\n",
       "</pre>\n"
      ],
      "text/plain": [
       "Initialized MLflow to track repo \u001b[32m\"Prashanth0205/Chest-Cancer-Classification-using-MLFlow-and-DVC\"\u001b[0m\n"
      ]
     },
     "metadata": {},
     "output_type": "display_data"
    },
    {
     "data": {
      "text/html": [
       "<pre style=\"white-space:pre;overflow-x:auto;line-height:normal;font-family:Menlo,'DejaVu Sans Mono',consolas,'Courier New',monospace\">Repository Prashanth0205/Chest-Cancer-Classification-using-MLFlow-and-DVC initialized!\n",
       "</pre>\n"
      ],
      "text/plain": [
       "Repository Prashanth0205/Chest-Cancer-Classification-using-MLFlow-and-DVC initialized!\n"
      ]
     },
     "metadata": {},
     "output_type": "display_data"
    }
   ],
   "source": [
    "import dagshub\n",
    "dagshub.init(repo_owner='Prashanth0205', repo_name='Chest-Cancer-Classification-using-MLFlow-and-DVC', mlflow=True)"
   ]
  },
  {
   "cell_type": "code",
   "execution_count": null,
   "metadata": {},
   "outputs": [],
   "source": [
    "# import mlflow\n",
    "# with mlflow.start_run():\n",
    "#   mlflow.log_param('parameter name', 'value')\n",
    "#   mlflow.log_metric('metric name', 1)"
   ]
  },
  {
   "cell_type": "code",
   "execution_count": 4,
   "metadata": {},
   "outputs": [],
   "source": [
    "from dataclasses import dataclass\n",
    "from pathlib import Path\n",
    "\n",
    "@dataclass(frozen=True)\n",
    "class EvaluationConfig:\n",
    "    path_of_model: Path\n",
    "    training_data: Path\n",
    "    all_params: dict \n",
    "    mlflow_uri: str\n",
    "    params_device: str\n",
    "    params_batch_size: int"
   ]
  },
  {
   "cell_type": "code",
   "execution_count": 5,
   "metadata": {},
   "outputs": [],
   "source": [
    "from src.CNNClassifier.constants import * \n",
    "from src.CNNClassifier.utils.common import read_yaml, create_directories, save_json"
   ]
  },
  {
   "cell_type": "code",
   "execution_count": 6,
   "metadata": {},
   "outputs": [],
   "source": [
    "class ConfigurationManager:\n",
    "    def __init__(\n",
    "        self, \n",
    "        config_filepath = CONFIG_FILE_PATH,\n",
    "        params_filepath = PARAMS_FILE_PATH):\n",
    "        self.config = read_yaml(config_filepath)\n",
    "        self.params = read_yaml(params_filepath)\n",
    "        \n",
    "        create_directories([self.config.artifacts_root])\n",
    "\n",
    "    \n",
    "    def get_evaluation_config(self) -> EvaluationConfig:\n",
    "        eval_config = EvaluationConfig(\n",
    "            path_of_model=self.config.training.trained_model_path,\n",
    "            training_data=Path(\"artifacts\\data_ingestion\\CT-Scan\"),\n",
    "            mlflow_uri=\"https://dagshub.com/Prashanth0205/Chest-Cancer-Classification-using-MLFlow-and-DVC.mlflow\",\n",
    "            all_params=self.params,\n",
    "            params_device=self.params.DEVICE,\n",
    "            params_batch_size=self.params.BATCH_SIZE\n",
    "        )\n",
    "        return eval_config"
   ]
  },
  {
   "cell_type": "code",
   "execution_count": 7,
   "metadata": {},
   "outputs": [],
   "source": [
    "import torch\n",
    "import torch.nn as nn\n",
    "import torch.optim as optim\n",
    "from torchvision import datasets, transforms\n",
    "from torch.utils.data import DataLoader\n",
    "\n",
    "import mlflow\n",
    "from urllib.parse import urlparse"
   ]
  },
  {
   "cell_type": "code",
   "execution_count": 12,
   "metadata": {},
   "outputs": [],
   "source": [
    "class Evaluation:\n",
    "    def __init__(self, config: EvaluationConfig):\n",
    "        self.config = config \n",
    "\n",
    "    def get_trained_model(self):\n",
    "        self.device = self.config.params_device\n",
    "        self.model = torch.load(self.config.path_of_model)\n",
    "        self.model = self.model.to(self.device)\n",
    "\n",
    "    def test_generator(self):\n",
    "        test_data_transform = transforms.Compose([\n",
    "            transforms.Resize((224, 224)),\n",
    "            transforms.ToTensor(),\n",
    "            transforms.Normalize([0.485, 0.456, 0.406], [0.229, 0.224, 0.225])\n",
    "        ])\n",
    "\n",
    "        test_dataset = datasets.ImageFolder(root=Path(f'{self.config.training_data}/test'), transform=test_data_transform)\n",
    "        self.test_loader = DataLoader(test_dataset, batch_size=self.config.params_batch_size, shuffle=False)\n",
    "\n",
    "    def test(self):\n",
    "        criterion = nn.CrossEntropyLoss() \n",
    "        total_loss = 0.0\n",
    "        running_corrects = 0\n",
    "\n",
    "        with torch.no_grad():\n",
    "            for inputs, labels in self.test_loader:\n",
    "                inputs, labels = inputs.to(self.device), labels.to(self.device)\n",
    "\n",
    "                outputs = self.model(inputs)\n",
    "                loss = criterion(outputs, labels)  \n",
    "                _, preds = torch.max(outputs, 1)\n",
    "\n",
    "                total_loss += loss.item() * inputs.size(0)\n",
    "                running_corrects += torch.sum(preds == labels)\n",
    "\n",
    "        self.loss = total_loss / len(self.test_loader.dataset)\n",
    "        self.accuracy = running_corrects/ len(self.test_loader.dataset)\n",
    "        self.save_score()\n",
    "\n",
    "    def save_score(self):\n",
    "        scores = {\"loss\": self.loss, \"accuracy\": self.accuracy}\n",
    "\n",
    "    def log_into_mlflow(self):\n",
    "        mlflow.set_registry_uri(self.config.mlflow_uri)\n",
    "        tracking_url_type_store = urlparse(mlflow.get_tracking_uri()).scheme\n",
    "\n",
    "        with mlflow.start_run():\n",
    "            mlflow.log_params(self.config.all_params)\n",
    "            mlflow.log_metrics({\"loss\": self.loss, \"accuracy\": self.accuracy})\n",
    "\n",
    "            if tracking_url_type_store != \"file\":\n",
    "                mlflow.pytorch.log_model(self.model, \"model\", registered_model_name='VGG16_PytorchModel')\n",
    "            else:\n",
    "                mlflow.pytorch.log_model(self.model, \"model\")\n"
   ]
  },
  {
   "cell_type": "code",
   "execution_count": 13,
   "metadata": {},
   "outputs": [
    {
     "name": "stdout",
     "output_type": "stream",
     "text": [
      "[2024-10-25 00:16:37,676: INFO: common: yaml file: config\\config.yaml loaded successfully]\n",
      "[2024-10-25 00:16:37,680: INFO: common: yaml file: params.yaml loaded successfully]\n",
      "[2024-10-25 00:16:37,682: INFO: common: created directory at: artifacts]\n"
     ]
    },
    {
     "name": "stderr",
     "output_type": "stream",
     "text": [
      "2024/10/25 00:17:58 WARNING mlflow.utils.requirements_utils: Found torch version (2.0.0+cu117) contains a local version label (+cu117). MLflow logged a pip requirement for this package as 'torch==2.0.0' without the local version label to make it installable from PyPI. To specify pip requirements containing local version labels, please use `conda_env` or `pip_requirements`.\n",
      "2024/10/25 00:18:08 WARNING mlflow.utils.requirements_utils: Found torchvision version (0.15.0+cu117) contains a local version label (+cu117). MLflow logged a pip requirement for this package as 'torchvision==0.15.0' without the local version label to make it installable from PyPI. To specify pip requirements containing local version labels, please use `conda_env` or `pip_requirements`.\n",
      "2024/10/25 00:18:08 WARNING mlflow.models.model: Model logged without a signature and input example. Please set `input_example` parameter when logging the model to auto infer the model signature.\n",
      "Successfully registered model 'VGG16_PytorchModel'.\n",
      "2024/10/25 00:20:56 INFO mlflow.store.model_registry.abstract_store: Waiting up to 300 seconds for model version to finish creation. Model name: VGG16_PytorchModel, version 1\n",
      "Created version '1' of model 'VGG16_PytorchModel'.\n",
      "2024/10/25 00:20:56 INFO mlflow.tracking._tracking_service.client: 🏃 View run popular-panda-380 at: https://dagshub.com/Prashanth0205/Chest-Cancer-Classification-using-MLFlow-and-DVC.mlflow/#/experiments/0/runs/8e7c88236fbf4319b0e79b6d07427ea1.\n",
      "2024/10/25 00:20:56 INFO mlflow.tracking._tracking_service.client: 🧪 View experiment at: https://dagshub.com/Prashanth0205/Chest-Cancer-Classification-using-MLFlow-and-DVC.mlflow/#/experiments/0.\n"
     ]
    }
   ],
   "source": [
    "try: \n",
    "    config = ConfigurationManager()\n",
    "    eval_config = config.get_evaluation_config()\n",
    "    evaluation = Evaluation(eval_config)\n",
    "    evaluation.get_trained_model()\n",
    "    evaluation.test_generator()\n",
    "    evaluation.test()\n",
    "    evaluation.log_into_mlflow()\n",
    "    \n",
    "except Exception as e:\n",
    "    raise e "
   ]
  }
 ],
 "metadata": {
  "kernelspec": {
   "display_name": "mlops",
   "language": "python",
   "name": "python3"
  },
  "language_info": {
   "codemirror_mode": {
    "name": "ipython",
    "version": 3
   },
   "file_extension": ".py",
   "mimetype": "text/x-python",
   "name": "python",
   "nbconvert_exporter": "python",
   "pygments_lexer": "ipython3",
   "version": "3.8.20"
  }
 },
 "nbformat": 4,
 "nbformat_minor": 2
}
